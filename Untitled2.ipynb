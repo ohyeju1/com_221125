{
  "nbformat": 4,
  "nbformat_minor": 0,
  "metadata": {
    "colab": {
      "provenance": [],
      "authorship_tag": "ABX9TyM/5p7xk+sNZ96M9qF5fQpc",
      "include_colab_link": true
    },
    "kernelspec": {
      "name": "python3",
      "display_name": "Python 3"
    },
    "language_info": {
      "name": "python"
    }
  },
  "cells": [
    {
      "cell_type": "markdown",
      "metadata": {
        "id": "view-in-github",
        "colab_type": "text"
      },
      "source": [
        "<a href=\"https://colab.research.google.com/github/ohyeju1/com_221125/blob/main/Untitled2.ipynb\" target=\"_parent\"><img src=\"https://colab.research.google.com/assets/colab-badge.svg\" alt=\"Open In Colab\"/></a>"
      ]
    },
    {
      "cell_type": "code",
      "execution_count": 1,
      "metadata": {
        "colab": {
          "base_uri": "https://localhost:8080/"
        },
        "id": "4oFpTDrjCL6_",
        "outputId": "932cdd0a-2df8-4560-b64b-62229f91fecb"
      },
      "outputs": [
        {
          "output_type": "stream",
          "name": "stdout",
          "text": [
            "########################\n",
            "#합격 불합격 프로그램#\n",
            "########################\n",
            "성적을 입력하시오.:70\n",
            "합격\n"
          ]
        }
      ],
      "source": [
        "print(\"########################\")\n",
        "print(\"#합격 불합격 프로그램#\")\n",
        "print(\"########################\")\n",
        "grade=int(input(\"성적을 입력하시오.:\"))\n",
        "if grade>=60:\n",
        "  print(\"합격\")\n",
        "else:\n",
        "  print(\"불합격\")"
      ]
    },
    {
      "cell_type": "code",
      "source": [
        "print(\"########################\")\n",
        "print(\"#이름, 나이, 답변 앱#\")\n",
        "print(\"########################\")\n",
        "yu_name=str(input(\"이름:\"))\n",
        "yu_age=int(input(\"나이:\"))\n",
        "if yu_age<=25:\n",
        "  print(\"와우!! 프로그래밍을 완벽하게 배울수 있는 나이입니다.!\")\n",
        "else:\n",
        "  print(\"포기하기에는 아직 늦지 않았습니다.\")\n",
        "print(\"n\")"
      ],
      "metadata": {
        "colab": {
          "base_uri": "https://localhost:8080/"
        },
        "id": "izRxOjNzC3E5",
        "outputId": "9980dc42-471d-405f-e2c1-b606c9d4a2fc"
      },
      "execution_count": 2,
      "outputs": [
        {
          "output_type": "stream",
          "name": "stdout",
          "text": [
            "########################\n",
            "#이름, 나이, 답변 앱#\n",
            "########################\n",
            "이름:오예주\n",
            "나이:20\n",
            "와우!! 프로그래밍을 완벽하게 배울수 있는 나이입니다.!\n",
            "n\n"
          ]
        }
      ]
    },
    {
      "cell_type": "code",
      "source": [
        "print(\"########################\")\n",
        "print(\"#짝수와 홀수 판별 앱-1#\")\n",
        "print(\"########################\")\n",
        "sm_int=int(input(\"정수를 입력하시오:\"))\n",
        "if(sm_int%2)!=0:\n",
        "  print(\"홀수\")\n",
        "else:\n",
        "  print(\"짝수\")"
      ],
      "metadata": {
        "colab": {
          "base_uri": "https://localhost:8080/"
        },
        "id": "Y0Po_onMDokF",
        "outputId": "5121e497-3cc9-4457-ea61-e116e1569c53"
      },
      "execution_count": 3,
      "outputs": [
        {
          "output_type": "stream",
          "name": "stdout",
          "text": [
            "########################\n",
            "#짝수와 홀수 판별 앱-1#\n",
            "########################\n",
            "정수를 입력하시오:1\n",
            "홀수\n"
          ]
        }
      ]
    },
    {
      "cell_type": "code",
      "source": [
        "print(\"########################\")\n",
        "print(\"#짝수와 홀수 판별 앱-2#\")\n",
        "print(\"########################\")\n",
        "def printEvenOdd():\n",
        " if userData%2==0:\n",
        "  print('입력한 정수는 짝수 입니다.')\n",
        " else:\n",
        "  print('입력한 정수는 홀수 입니다.')\n",
        "userData=int(input('정수를 입력하세요.'))\n",
        "printEvenOdd()"
      ],
      "metadata": {
        "colab": {
          "base_uri": "https://localhost:8080/"
        },
        "id": "wZxuXtgnE0TT",
        "outputId": "9bf0d5d5-2662-4cc8-dd8c-0c68b3198ba7"
      },
      "execution_count": 17,
      "outputs": [
        {
          "output_type": "stream",
          "name": "stdout",
          "text": [
            "########################\n",
            "#짝수와 홀수 판별 앱-2#\n",
            "########################\n",
            "정수를 입력하세요.1\n",
            "입력한 정수는 홀수 입니다.\n"
          ]
        }
      ]
    }
  ]
}